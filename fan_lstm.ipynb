{
 "cells": [
  {
   "cell_type": "code",
   "execution_count": 1,
   "metadata": {},
   "outputs": [],
   "source": [
    "import os\n",
    "import numpy as np\n",
    "import pandas as pd\n",
    "import random\n",
    "import tensorflow as tf\n",
    "\n",
    "from datetime import timedelta\n",
    "from time import time\n",
    "\n",
    "from tensorflow.keras.preprocessing import sequence\n",
    "from tensorflow.keras.models import Sequential\n",
    "from tensorflow.keras.layers import Dense, Embedding, BatchNormalization\n",
    "from tensorflow.keras.layers import LSTM\n",
    "from tensorflow.keras.datasets import imdb\n",
    "from tensorflow.keras.utils import to_categorical"
   ]
  },
  {
   "cell_type": "code",
   "execution_count": 2,
   "metadata": {},
   "outputs": [],
   "source": [
    "# Data Parameters\n",
    "data_dir = \"./data/\"\n",
    "seed = int(time())\n",
    "random.seed(seed)\n",
    "\n",
    "num_fan_level = 4\n",
    "raw = [None] * num_fan_level\n",
    "\n",
    "train_test = 0.7\n",
    "\n",
    "# LSTM Parameters\n",
    "maxlen = 512\n",
    "batch_size = 16"
   ]
  },
  {
   "cell_type": "code",
   "execution_count": 3,
   "metadata": {},
   "outputs": [],
   "source": [
    "# Utility\n",
    "def split_continuous(data, tolerance=0):\n",
    "    data[\"time\"] = pd.to_datetime(data[\"time\"])\n",
    "    res = []\n",
    "    tmp = []\n",
    "    prev = data.iloc[0][0]\n",
    "    cnt = 0\n",
    "    for i in range(1,data.shape[0]):\n",
    "        if (prev+timedelta(seconds=1)) == data.iloc[i][0]:\n",
    "            tmp.append(np.array(data.iloc[i][1:3])) # PM2.5, PM10, FAN\n",
    "        elif cnt < tolerance:\n",
    "            tmp.append(np.array(data.iloc[i][1:3])) # PM2.5, PM10, FAN\n",
    "            cnt += 1\n",
    "        else:\n",
    "            if tmp != []:\n",
    "                res.append(tmp)\n",
    "            tmp = []\n",
    "            cnt = 0\n",
    "        prev = data.iloc[i][0]\n",
    "    return res"
   ]
  },
  {
   "cell_type": "code",
   "execution_count": 4,
   "metadata": {},
   "outputs": [
    {
     "name": "stdout",
     "output_type": "stream",
     "text": [
      "Loading ./data/2021-01-19oldFilter.csv...  "
     ]
    },
    {
     "name": "stderr",
     "output_type": "stream",
     "text": [
      "C:\\ProgramData\\Anaconda3\\lib\\site-packages\\ipykernel_launcher.py:3: SettingWithCopyWarning: \n",
      "A value is trying to be set on a copy of a slice from a DataFrame.\n",
      "Try using .loc[row_indexer,col_indexer] = value instead\n",
      "\n",
      "See the caveats in the documentation: https://pandas.pydata.org/pandas-docs/stable/user_guide/indexing.html#returning-a-view-versus-a-copy\n",
      "  This is separate from the ipykernel package so we can avoid doing imports until\n"
     ]
    },
    {
     "name": "stdout",
     "output_type": "stream",
     "text": [
      "Done.\n",
      "Loading ./data/2021-01-20-newFilter.csv...  Done.\n",
      "Loading ./data/2021-01-21noFan.csv...  Done.\n",
      "Loading ./data/2021-01-22noFan.csv...  Done.\n",
      "Loading ./data/2021-01-23Fan3-night.csv...  Done.\n",
      "Loading ./data/2021-01-23Fan3.csv...  Done.\n",
      "Loading ./data/2021-01-24_18.csv...  Done.\n"
     ]
    }
   ],
   "source": [
    "# Load Data\n",
    "raw = [None] * num_fan_level\n",
    "for file in os.listdir(data_dir):\n",
    "    file = os.path.join(data_dir,file)\n",
    "    data = pd.read_csv(file)\n",
    "    print(\"Loading {}...  \".format(file),end='')\n",
    "    for index in range(0,4):\n",
    "        df = data[data[\"fan\"]==index]\n",
    "        if df.shape[0] > 0:\n",
    "            res = split_continuous(df)\n",
    "            if raw[index] == None:\n",
    "                raw[index] = res\n",
    "            else:\n",
    "                raw[index].extend(res)\n",
    "        index += 1\n",
    "    print(\"Done.\")\n",
    "\n",
    "del df\n",
    "del file\n",
    "del data\n",
    "del index"
   ]
  },
  {
   "cell_type": "code",
   "execution_count": 5,
   "metadata": {},
   "outputs": [
    {
     "name": "stdout",
     "output_type": "stream",
     "text": [
      "45\n",
      "18\n",
      "7\n",
      "39\n"
     ]
    }
   ],
   "source": [
    "print(len(raw[0]))\n",
    "print(len(raw[1]))\n",
    "print(len(raw[2]))\n",
    "print(len(raw[3]))"
   ]
  },
  {
   "cell_type": "code",
   "execution_count": 6,
   "metadata": {},
   "outputs": [
    {
     "name": "stdout",
     "output_type": "stream",
     "text": [
      "74\n",
      "[0. 0. 0. 0. 0. 0. 0. 0. 0. 0. 0. 0. 0. 0. 0. 0. 0. 0. 0. 0. 0. 0. 0. 0.\n",
      " 0. 0. 0. 0. 0. 0. 0. 1. 1. 1. 1. 1. 1. 1. 1. 1. 1. 1. 1. 2. 2. 2. 2. 3.\n",
      " 3. 3. 3. 3. 3. 3. 3. 3. 3. 3. 3. 3. 3. 3. 3. 3. 3. 3. 3. 3. 3. 3. 3. 3.\n",
      " 3. 3.]\n",
      "35\n",
      "[0. 0. 0. 0. 0. 0. 0. 0. 0. 0. 0. 0. 0. 0. 1. 1. 1. 1. 1. 1. 2. 2. 2. 3.\n",
      " 3. 3. 3. 3. 3. 3. 3. 3. 3. 3. 3.]\n"
     ]
    }
   ],
   "source": [
    "# Train Test Split\n",
    "def train_test_split(raw, train_test=0.7):\n",
    "    trainX = []\n",
    "    trainY = []\n",
    "    testX = []\n",
    "    testY = []\n",
    "    \n",
    "    random.shuffle(raw[0])\n",
    "    trainX = raw[0][0:int(len(raw[0])*train_test)]\n",
    "    trainY = [0]*len(trainX)\n",
    "    testX = raw[0][int(len(raw[0])*train_test):]\n",
    "    testY = [0]*len(testX)\n",
    "    \n",
    "    for i in range(1,len(raw)):\n",
    "        random.shuffle(raw[i])\n",
    "        trainX.extend(raw[i][0:int(len(raw[i])*train_test)])\n",
    "        trainY.extend([i]*int(len(raw[i])*train_test))\n",
    "        testX.extend(raw[i][int(len(raw[i])*train_test):])\n",
    "        testY.extend([i]*(len(raw[i])-(int(len(raw[i])*train_test))))\n",
    "\n",
    "    return trainX, np.array(trainY).astype(\"float32\"), testX, np.array(testY).astype(\"float32\")\n",
    "\n",
    "trainX, trainY, testX, testY = train_test_split(raw, train_test=0.7)\n",
    "\n",
    "print(len(trainX))\n",
    "print(trainY)\n",
    "print(len(testX))\n",
    "print(testY)"
   ]
  },
  {
   "cell_type": "code",
   "execution_count": 7,
   "metadata": {},
   "outputs": [
    {
     "name": "stdout",
     "output_type": "stream",
     "text": [
      "Train X shape: (74, 512, 2)\n",
      "Test X shape: (35, 512, 2)\n"
     ]
    }
   ],
   "source": [
    "# Data Pre-processing\n",
    "trainX = sequence.pad_sequences(trainX, maxlen=maxlen, dtype='float32')\n",
    "testX = sequence.pad_sequences(testX, maxlen=maxlen, dtype='float32')\n",
    "\n",
    "print('Train X shape:', trainX.shape)\n",
    "print('Test X shape:', testX.shape)"
   ]
  },
  {
   "cell_type": "code",
   "execution_count": 8,
   "metadata": {},
   "outputs": [
    {
     "name": "stdout",
     "output_type": "stream",
     "text": [
      "Train Y shape: (74, 4)\n",
      "Test Y shape: (35, 4)\n"
     ]
    }
   ],
   "source": [
    "trainY = to_categorical(trainY, num_fan_level)\n",
    "testY = to_categorical(testY, num_fan_level)\n",
    "\n",
    "print('Train Y shape:', trainY.shape)\n",
    "print('Test Y shape:', testY.shape)"
   ]
  },
  {
   "cell_type": "code",
   "execution_count": 9,
   "metadata": {},
   "outputs": [
    {
     "name": "stdout",
     "output_type": "stream",
     "text": [
      "Train...\n",
      "Epoch 1/64\n",
      "5/5 [==============================] - 0s 64ms/step - loss: 1.4892 - accuracy: 0.0541 - val_loss: 1.5226 - val_accuracy: 0.0286\n",
      "Epoch 2/64\n",
      "5/5 [==============================] - 0s 16ms/step - loss: 1.4663 - accuracy: 0.0541 - val_loss: 1.5055 - val_accuracy: 0.0857\n",
      "Epoch 3/64\n",
      "5/5 [==============================] - 0s 16ms/step - loss: 1.4617 - accuracy: 0.0541 - val_loss: 1.4919 - val_accuracy: 0.1714\n",
      "Epoch 4/64\n",
      "5/5 [==============================] - 0s 16ms/step - loss: 1.4447 - accuracy: 0.1216 - val_loss: 1.4799 - val_accuracy: 0.1429\n",
      "Epoch 5/64\n",
      "5/5 [==============================] - 0s 16ms/step - loss: 1.4363 - accuracy: 0.1486 - val_loss: 1.4690 - val_accuracy: 0.1429\n",
      "Epoch 6/64\n",
      "5/5 [==============================] - 0s 14ms/step - loss: 1.4210 - accuracy: 0.1622 - val_loss: 1.4581 - val_accuracy: 0.1714\n",
      "Epoch 7/64\n",
      "5/5 [==============================] - 0s 14ms/step - loss: 1.4179 - accuracy: 0.1757 - val_loss: 1.4483 - val_accuracy: 0.1429\n",
      "Epoch 8/64\n",
      "5/5 [==============================] - 0s 14ms/step - loss: 1.4099 - accuracy: 0.2162 - val_loss: 1.4389 - val_accuracy: 0.1714\n",
      "Epoch 9/64\n",
      "5/5 [==============================] - 0s 14ms/step - loss: 1.4092 - accuracy: 0.1757 - val_loss: 1.4295 - val_accuracy: 0.1714\n",
      "Epoch 10/64\n",
      "5/5 [==============================] - 0s 14ms/step - loss: 1.4093 - accuracy: 0.1757 - val_loss: 1.4213 - val_accuracy: 0.1714\n",
      "Epoch 11/64\n",
      "5/5 [==============================] - 0s 14ms/step - loss: 1.3865 - accuracy: 0.2297 - val_loss: 1.4133 - val_accuracy: 0.2286\n",
      "Epoch 12/64\n",
      "5/5 [==============================] - 0s 14ms/step - loss: 1.3774 - accuracy: 0.2432 - val_loss: 1.4049 - val_accuracy: 0.2000\n",
      "Epoch 13/64\n",
      "5/5 [==============================] - 0s 14ms/step - loss: 1.3755 - accuracy: 0.2162 - val_loss: 1.3971 - val_accuracy: 0.2286\n",
      "Epoch 14/64\n",
      "5/5 [==============================] - 0s 14ms/step - loss: 1.3707 - accuracy: 0.2703 - val_loss: 1.3902 - val_accuracy: 0.1714\n",
      "Epoch 15/64\n",
      "5/5 [==============================] - 0s 15ms/step - loss: 1.3583 - accuracy: 0.2838 - val_loss: 1.3832 - val_accuracy: 0.2000\n",
      "Epoch 16/64\n",
      "5/5 [==============================] - 0s 14ms/step - loss: 1.3580 - accuracy: 0.2297 - val_loss: 1.3759 - val_accuracy: 0.2000\n",
      "Epoch 17/64\n",
      "5/5 [==============================] - 0s 14ms/step - loss: 1.3517 - accuracy: 0.2838 - val_loss: 1.3698 - val_accuracy: 0.2000\n",
      "Epoch 18/64\n",
      "5/5 [==============================] - 0s 14ms/step - loss: 1.3442 - accuracy: 0.2838 - val_loss: 1.3639 - val_accuracy: 0.1714\n",
      "Epoch 19/64\n",
      "5/5 [==============================] - 0s 14ms/step - loss: 1.3425 - accuracy: 0.2703 - val_loss: 1.3577 - val_accuracy: 0.1714\n",
      "Epoch 20/64\n",
      "5/5 [==============================] - 0s 14ms/step - loss: 1.3274 - accuracy: 0.2838 - val_loss: 1.3517 - val_accuracy: 0.1714\n",
      "Epoch 21/64\n",
      "5/5 [==============================] - 0s 14ms/step - loss: 1.3283 - accuracy: 0.2838 - val_loss: 1.3452 - val_accuracy: 0.2286\n",
      "Epoch 22/64\n",
      "5/5 [==============================] - 0s 14ms/step - loss: 1.3205 - accuracy: 0.2703 - val_loss: 1.3393 - val_accuracy: 0.2286\n",
      "Epoch 23/64\n",
      "5/5 [==============================] - 0s 14ms/step - loss: 1.3117 - accuracy: 0.2973 - val_loss: 1.3331 - val_accuracy: 0.2286\n",
      "Epoch 24/64\n",
      "5/5 [==============================] - 0s 14ms/step - loss: 1.3191 - accuracy: 0.2838 - val_loss: 1.3276 - val_accuracy: 0.2857\n",
      "Epoch 25/64\n",
      "5/5 [==============================] - 0s 14ms/step - loss: 1.3063 - accuracy: 0.2973 - val_loss: 1.3224 - val_accuracy: 0.2857\n",
      "Epoch 26/64\n",
      "5/5 [==============================] - 0s 14ms/step - loss: 1.2960 - accuracy: 0.3243 - val_loss: 1.3173 - val_accuracy: 0.3143\n",
      "Epoch 27/64\n",
      "5/5 [==============================] - 0s 14ms/step - loss: 1.2932 - accuracy: 0.2973 - val_loss: 1.3118 - val_accuracy: 0.3143\n",
      "Epoch 28/64\n",
      "5/5 [==============================] - 0s 14ms/step - loss: 1.2907 - accuracy: 0.3108 - val_loss: 1.3068 - val_accuracy: 0.3429\n",
      "Epoch 29/64\n",
      "5/5 [==============================] - 0s 14ms/step - loss: 1.2802 - accuracy: 0.3108 - val_loss: 1.3018 - val_accuracy: 0.3429\n",
      "Epoch 30/64\n",
      "5/5 [==============================] - 0s 14ms/step - loss: 1.2705 - accuracy: 0.3243 - val_loss: 1.2966 - val_accuracy: 0.3429\n",
      "Epoch 31/64\n",
      "5/5 [==============================] - 0s 14ms/step - loss: 1.2669 - accuracy: 0.3378 - val_loss: 1.2919 - val_accuracy: 0.3429\n",
      "Epoch 32/64\n",
      "5/5 [==============================] - 0s 15ms/step - loss: 1.2764 - accuracy: 0.3784 - val_loss: 1.2889 - val_accuracy: 0.3429\n",
      "Epoch 33/64\n",
      "5/5 [==============================] - 0s 22ms/step - loss: 1.2633 - accuracy: 0.3514 - val_loss: 1.2854 - val_accuracy: 0.3714\n",
      "Epoch 34/64\n",
      "5/5 [==============================] - 0s 14ms/step - loss: 1.2606 - accuracy: 0.3378 - val_loss: 1.2819 - val_accuracy: 0.3714\n",
      "Epoch 35/64\n",
      "5/5 [==============================] - 0s 14ms/step - loss: 1.2485 - accuracy: 0.3649 - val_loss: 1.2783 - val_accuracy: 0.3714\n",
      "Epoch 36/64\n",
      "5/5 [==============================] - 0s 14ms/step - loss: 1.2478 - accuracy: 0.3919 - val_loss: 1.2748 - val_accuracy: 0.3714\n",
      "Epoch 37/64\n",
      "5/5 [==============================] - 0s 14ms/step - loss: 1.2408 - accuracy: 0.4459 - val_loss: 1.2713 - val_accuracy: 0.5143\n",
      "Epoch 38/64\n",
      "5/5 [==============================] - 0s 14ms/step - loss: 1.2399 - accuracy: 0.4459 - val_loss: 1.2682 - val_accuracy: 0.5429\n",
      "Epoch 39/64\n",
      "5/5 [==============================] - 0s 14ms/step - loss: 1.2567 - accuracy: 0.4595 - val_loss: 1.2649 - val_accuracy: 0.5143\n",
      "Epoch 40/64\n",
      "5/5 [==============================] - 0s 14ms/step - loss: 1.2358 - accuracy: 0.4865 - val_loss: 1.2624 - val_accuracy: 0.5143\n",
      "Epoch 41/64\n",
      "5/5 [==============================] - 0s 14ms/step - loss: 1.2170 - accuracy: 0.4730 - val_loss: 1.2604 - val_accuracy: 0.4857\n",
      "Epoch 42/64\n",
      "5/5 [==============================] - 0s 14ms/step - loss: 1.2294 - accuracy: 0.4730 - val_loss: 1.2571 - val_accuracy: 0.5143\n",
      "Epoch 43/64\n",
      "5/5 [==============================] - 0s 14ms/step - loss: 1.2236 - accuracy: 0.5000 - val_loss: 1.2547 - val_accuracy: 0.4857\n",
      "Epoch 44/64\n",
      "5/5 [==============================] - 0s 14ms/step - loss: 1.2234 - accuracy: 0.5000 - val_loss: 1.2518 - val_accuracy: 0.5143\n",
      "Epoch 45/64\n",
      "5/5 [==============================] - 0s 14ms/step - loss: 1.2311 - accuracy: 0.4324 - val_loss: 1.2489 - val_accuracy: 0.5143\n",
      "Epoch 46/64\n",
      "5/5 [==============================] - 0s 14ms/step - loss: 1.2224 - accuracy: 0.4189 - val_loss: 1.2471 - val_accuracy: 0.5143\n",
      "Epoch 47/64\n",
      "5/5 [==============================] - 0s 14ms/step - loss: 1.2076 - accuracy: 0.4595 - val_loss: 1.2452 - val_accuracy: 0.5429\n",
      "Epoch 48/64\n",
      "5/5 [==============================] - 0s 14ms/step - loss: 1.2194 - accuracy: 0.4730 - val_loss: 1.2425 - val_accuracy: 0.5429\n",
      "Epoch 49/64\n",
      "5/5 [==============================] - 0s 14ms/step - loss: 1.2041 - accuracy: 0.5000 - val_loss: 1.2395 - val_accuracy: 0.5143\n",
      "Epoch 50/64\n",
      "5/5 [==============================] - 0s 14ms/step - loss: 1.1935 - accuracy: 0.4595 - val_loss: 1.2367 - val_accuracy: 0.5143\n",
      "Epoch 51/64\n",
      "5/5 [==============================] - 0s 14ms/step - loss: 1.1924 - accuracy: 0.4730 - val_loss: 1.2346 - val_accuracy: 0.5143\n",
      "Epoch 52/64\n",
      "5/5 [==============================] - 0s 14ms/step - loss: 1.1947 - accuracy: 0.4459 - val_loss: 1.2326 - val_accuracy: 0.5143\n",
      "Epoch 53/64\n",
      "5/5 [==============================] - 0s 14ms/step - loss: 1.2000 - accuracy: 0.4595 - val_loss: 1.2307 - val_accuracy: 0.5143\n",
      "Epoch 54/64\n",
      "5/5 [==============================] - 0s 14ms/step - loss: 1.1916 - accuracy: 0.4054 - val_loss: 1.2298 - val_accuracy: 0.5143\n",
      "Epoch 55/64\n",
      "5/5 [==============================] - 0s 14ms/step - loss: 1.1937 - accuracy: 0.4865 - val_loss: 1.2279 - val_accuracy: 0.5143\n",
      "Epoch 56/64\n",
      "5/5 [==============================] - 0s 14ms/step - loss: 1.1794 - accuracy: 0.5135 - val_loss: 1.2256 - val_accuracy: 0.5143\n",
      "Epoch 57/64\n",
      "5/5 [==============================] - 0s 14ms/step - loss: 1.1894 - accuracy: 0.4730 - val_loss: 1.2242 - val_accuracy: 0.5143\n",
      "Epoch 58/64\n",
      "5/5 [==============================] - 0s 14ms/step - loss: 1.1946 - accuracy: 0.5000 - val_loss: 1.2209 - val_accuracy: 0.5143\n",
      "Epoch 59/64\n",
      "5/5 [==============================] - 0s 14ms/step - loss: 1.1765 - accuracy: 0.4865 - val_loss: 1.2185 - val_accuracy: 0.5143\n",
      "Epoch 60/64\n",
      "5/5 [==============================] - 0s 14ms/step - loss: 1.1708 - accuracy: 0.5000 - val_loss: 1.2160 - val_accuracy: 0.5143\n",
      "Epoch 61/64\n",
      "5/5 [==============================] - 0s 14ms/step - loss: 1.1792 - accuracy: 0.5135 - val_loss: 1.2131 - val_accuracy: 0.5143\n",
      "Epoch 62/64\n",
      "5/5 [==============================] - 0s 14ms/step - loss: 1.1775 - accuracy: 0.5000 - val_loss: 1.2127 - val_accuracy: 0.5143\n",
      "Epoch 63/64\n",
      "5/5 [==============================] - 0s 14ms/step - loss: 1.1725 - accuracy: 0.4865 - val_loss: 1.2116 - val_accuracy: 0.5143\n",
      "Epoch 64/64\n",
      "5/5 [==============================] - 0s 15ms/step - loss: 1.1667 - accuracy: 0.4730 - val_loss: 1.2101 - val_accuracy: 0.5143\n",
      "Model: \"sequential\"\n",
      "_________________________________________________________________\n",
      "Layer (type)                 Output Shape              Param #   \n",
      "=================================================================\n",
      "batch_normalization (BatchNo (None, 512, 2)            2048      \n",
      "_________________________________________________________________\n",
      "lstm (LSTM)                  (None, 4)                 112       \n",
      "_________________________________________________________________\n",
      "dense (Dense)                (None, 4)                 20        \n",
      "=================================================================\n",
      "Total params: 2,180\n",
      "Trainable params: 1,156\n",
      "Non-trainable params: 1,024\n",
      "_________________________________________________________________\n"
     ]
    }
   ],
   "source": [
    "# LSTM Model\n",
    "model = Sequential()\n",
    "model.add(BatchNormalization(axis=1))\n",
    "model.add(LSTM(4))\n",
    "model.add(Dense(num_fan_level, activation='softmax'))\n",
    "\n",
    "model.compile(loss='categorical_crossentropy',\n",
    "              optimizer='rmsprop',\n",
    "              metrics=['accuracy'])\n",
    "\n",
    "print('Train...')\n",
    "model.fit(trainX, trainY,\n",
    "          batch_size=batch_size,\n",
    "          epochs=64,\n",
    "          validation_data=(testX, testY))\n",
    "\n",
    "model.summary()"
   ]
  },
  {
   "cell_type": "code",
   "execution_count": 10,
   "metadata": {},
   "outputs": [
    {
     "name": "stdout",
     "output_type": "stream",
     "text": [
      "3/3 [==============================] - 0s 4ms/step - loss: 1.2101 - accuracy: 0.5143\n",
      "Test score: 1.2101233005523682\n",
      "Test accuracy: 0.5142857432365417\n"
     ]
    }
   ],
   "source": [
    "score, acc = model.evaluate(testX, testY,\n",
    "                            batch_size=batch_size)\n",
    "\n",
    "print('Test score:', score)\n",
    "print('Test accuracy:', acc)"
   ]
  },
  {
   "cell_type": "code",
   "execution_count": null,
   "metadata": {},
   "outputs": [],
   "source": []
  }
 ],
 "metadata": {
  "kernelspec": {
   "display_name": "Python 3",
   "language": "python",
   "name": "python3"
  },
  "language_info": {
   "codemirror_mode": {
    "name": "ipython",
    "version": 3
   },
   "file_extension": ".py",
   "mimetype": "text/x-python",
   "name": "python",
   "nbconvert_exporter": "python",
   "pygments_lexer": "ipython3",
   "version": "3.6.10"
  }
 },
 "nbformat": 4,
 "nbformat_minor": 4
}
